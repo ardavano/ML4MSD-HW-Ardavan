{
 "cells": [
  {
   "cell_type": "markdown",
   "id": "ec03c153",
   "metadata": {},
   "source": [
    "# ML4MSD - Homework 4: Assignment 2\n",
    "# Materials Project API + DScribe Featurization Pipeline\n",
    "\n",
    "**Author**: Ardavan Mehdizadeh  \n",
    "**Date**: Oct 20, 2025  \n",
    "\n",
    "## Objective\n",
    "\n",
    "Query Materials Project API to get 1-3k materials, then run a complete ML pipeline using DScribe structural featurizers.\n",
    "\n",
    "## Query Strategy\n",
    "\n",
    "I'll query for materials with:\n",
    "- Band gap between 0.5 and 3.0 eV (semiconductors)\n",
    "- Energy above hull < 0.05 eV/atom (stable materials)\n",
    "- 2-4 elements (simple compounds)\n",
    "- Has structure data\n",
    "\n",
    "**Target property**: Band gap (It relates to electronic properties of layered materials)"
   ]
  },
  {
   "cell_type": "code",
   "execution_count": 1,
   "id": "4b879dca",
   "metadata": {},
   "outputs": [
    {
     "name": "stderr",
     "output_type": "stream",
     "text": [
      "/Users/mehdizadeh.a/Library/CloudStorage/OneDrive-NortheasternUniversity/ML4MSD-HW-Ardavan/.venv/lib/python3.11/site-packages/tqdm/auto.py:21: TqdmWarning: IProgress not found. Please update jupyter and ipywidgets. See https://ipywidgets.readthedocs.io/en/stable/user_install.html\n",
      "  from .autonotebook import tqdm as notebook_tqdm\n"
     ]
    },
    {
     "name": "stdout",
     "output_type": "stream",
     "text": [
      "✓ API key loaded from config.py\n"
     ]
    }
   ],
   "source": [
    "import pandas as pd\n",
    "import numpy as np\n",
    "import matplotlib.pyplot as plt\n",
    "from mp_api.client import MPRester\n",
    "from pymatgen.io.ase import AseAtomsAdaptor\n",
    "from dscribe.descriptors import SOAP\n",
    "from sklearn.preprocessing import StandardScaler\n",
    "from sklearn.model_selection import train_test_split\n",
    "from sklearn.ensemble import RandomForestRegressor\n",
    "from sklearn.metrics import mean_absolute_error, r2_score, mean_squared_error\n",
    "import warnings\n",
    "warnings.filterwarnings('ignore')\n",
    "\n",
    "# Import API key\n",
    "try:\n",
    "    from config import MP_API_KEY\n",
    "    print(\"✓ API key loaded from config.py\")\n",
    "except ImportError:\n",
    "    print(\"❌ Error: config.py not found!\")\n",
    "    print(\"Please create config.py with your MP_API_KEY\")\n",
    "    raise"
   ]
  },
  {
   "cell_type": "code",
   "execution_count": 2,
   "id": "da5799dd",
   "metadata": {},
   "outputs": [
    {
     "name": "stdout",
     "output_type": "stream",
     "text": [
      "============================================================\n",
      "QUERYING MATERIALS PROJECT\n",
      "============================================================\n"
     ]
    },
    {
     "name": "stderr",
     "output_type": "stream",
     "text": [
      "Retrieving SummaryDoc documents: 100%|██████████| 1386/1386 [00:01<00:00, 904.64it/s]"
     ]
    },
    {
     "name": "stdout",
     "output_type": "stream",
     "text": [
      "✓ Retrieved 1386 materials\n",
      "\n",
      "✅ Final dataset: 1386 materials\n",
      "Band gap range: 1.50 - 2.50 eV\n",
      "Sites per cell: 2-30\n"
     ]
    },
    {
     "name": "stderr",
     "output_type": "stream",
     "text": [
      "\n"
     ]
    }
   ],
   "source": [
    "# Query Materials Project - VERY SELECTIVE for 1-2k materials\n",
    "print(\"=\"*60)\n",
    "print(\"QUERYING MATERIALS PROJECT\")\n",
    "print(\"=\"*60)\n",
    "\n",
    "with MPRester(MP_API_KEY) as mpr:\n",
    "    # Very selective query\n",
    "    docs = mpr.materials.summary.search(\n",
    "        band_gap=(1.5, 2.5),           # Narrow\n",
    "        energy_above_hull=(0, 0.01),   # Very stable only\n",
    "        num_elements=(2, 3),            # Binary and ternary\n",
    "        num_sites=(1, 30),              # Small cells only\n",
    "        is_stable=True,                 # Only stable phases\n",
    "        fields=[\n",
    "            \"material_id\",\n",
    "            \"formula_pretty\", \n",
    "            \"band_gap\",\n",
    "            \"energy_above_hull\",\n",
    "            \"structure\",\n",
    "            \"nsites\",\n",
    "            \"nelements\"\n",
    "        ]\n",
    "    )\n",
    "\n",
    "print(f\"✓ Retrieved {len(docs)} materials\")\n",
    "\n",
    "# Ensure we have a manageable size\n",
    "if len(docs) > 2000:\n",
    "    import random\n",
    "    random.seed(17)\n",
    "    docs = random.sample(docs, 2000)\n",
    "    print(f\"✓ Sampled to {len(docs)} materials for computational efficiency\")\n",
    "elif len(docs) < 500:\n",
    "    print(\"⚠️ Warning: Dataset may be too small, consider relaxing constraints\")\n",
    "\n",
    "# Convert to DataFrame\n",
    "data = []\n",
    "for doc in docs:\n",
    "    data.append({\n",
    "        'material_id': doc.material_id,\n",
    "        'formula': doc.formula_pretty,\n",
    "        'band_gap': doc.band_gap,\n",
    "        'energy_above_hull': doc.energy_above_hull,\n",
    "        'structure': doc.structure,\n",
    "        'nsites': doc.nsites,\n",
    "        'nelements': doc.nelements\n",
    "    })\n",
    "\n",
    "df = pd.DataFrame(data)\n",
    "print(f\"\\n✅ Final dataset: {len(df)} materials\")\n",
    "print(f\"Band gap range: {df['band_gap'].min():.2f} - {df['band_gap'].max():.2f} eV\")\n",
    "print(f\"Sites per cell: {df['nsites'].min()}-{df['nsites'].max()}\")"
   ]
  },
  {
   "cell_type": "code",
   "execution_count": 3,
   "id": "6911454f",
   "metadata": {},
   "outputs": [
    {
     "name": "stdout",
     "output_type": "stream",
     "text": [
      "\n",
      "============================================================\n",
      "DATASET STATISTICS\n",
      "============================================================\n",
      "          band_gap  energy_above_hull       nsites    nelements\n",
      "count  1386.000000             1386.0  1386.000000  1386.000000\n",
      "mean      1.990598                0.0    15.145022     2.876623\n",
      "std       0.278754                0.0     8.248568     0.328988\n",
      "min       1.500300                0.0     2.000000     2.000000\n",
      "25%       1.756775                0.0     8.000000     3.000000\n",
      "50%       1.989250                0.0    14.000000     3.000000\n",
      "75%       2.225175                0.0    22.000000     3.000000\n",
      "max       2.497000                0.0    30.000000     3.000000\n",
      "\n",
      "Target variable (band_gap) distribution:\n",
      "count    1386.000000\n",
      "mean        1.990598\n",
      "std         0.278754\n",
      "min         1.500300\n",
      "25%         1.756775\n",
      "50%         1.989250\n",
      "75%         2.225175\n",
      "max         2.497000\n",
      "Name: band_gap, dtype: float64\n",
      "\n",
      "Missing values:\n",
      "material_id          0\n",
      "formula              0\n",
      "band_gap             0\n",
      "energy_above_hull    0\n",
      "structure            0\n",
      "nsites               0\n",
      "nelements            0\n",
      "dtype: int64\n",
      "\n",
      "Final dataset size after cleaning: 1386 materials\n"
     ]
    }
   ],
   "source": [
    "# Explore the dataset\n",
    "print(\"\\n\" + \"=\"*60)\n",
    "print(\"DATASET STATISTICS\")\n",
    "print(\"=\"*60)\n",
    "print(df.describe())\n",
    "\n",
    "print(\"\\nTarget variable (band_gap) distribution:\")\n",
    "print(df['band_gap'].describe())\n",
    "\n",
    "# Check for any None/NaN values\n",
    "print(f\"\\nMissing values:\")\n",
    "print(df.isnull().sum())\n",
    "\n",
    "# Remove any entries with missing structures or band gaps\n",
    "df = df.dropna(subset=['structure', 'band_gap'])\n",
    "print(f\"\\nFinal dataset size after cleaning: {len(df)} materials\")"
   ]
  },
  {
   "cell_type": "code",
   "execution_count": 4,
   "id": "41713339",
   "metadata": {},
   "outputs": [
    {
     "data": {
      "image/png": "[encoded data removed]",
      "text/plain": [
       "<Figure size 1200x400 with 2 Axes>"
      ]
     },
     "metadata": {},
     "output_type": "display_data"
    },
    {
     "name": "stdout",
     "output_type": "stream",
     "text": [
      "✓ Target distribution visualized\n"
     ]
    }
   ],
   "source": [
    "# Visualize band gap distribution\n",
    "fig, axes = plt.subplots(1, 2, figsize=(12, 4))\n",
    "\n",
    "axes[0].hist(df['band_gap'], bins=30, edgecolor='black', color='skyblue')\n",
    "axes[0].set_xlabel('Band Gap (eV)')\n",
    "axes[0].set_ylabel('Frequency')\n",
    "axes[0].set_title('Distribution of Band Gaps')\n",
    "axes[0].grid(alpha=0.3)\n",
    "\n",
    "axes[1].boxplot(df['band_gap'])\n",
    "axes[1].set_ylabel('Band Gap (eV)')\n",
    "axes[1].set_title('Band Gap Box Plot')\n",
    "axes[1].grid(alpha=0.3)\n",
    "\n",
    "plt.tight_layout()\n",
    "plt.savefig('mp_bandgap_distribution.png', dpi=150, bbox_inches='tight')\n",
    "plt.show()\n",
    "\n",
    "print(\"✓ Target distribution visualized\")"
   ]
  },
  {
   "cell_type": "markdown",
   "id": "f043f88c",
   "metadata": {},
   "source": [
    "## Structural Featurization with DScribe SOAP\n",
    "\n",
    "SOAP (Smooth Overlap of Atomic Positions) is ideal for this task because:\n",
    "- Captures local atomic environments\n",
    "- Rotation and permutation invariant\n",
    "- Well-suited for predicting properties dependent on local structure\n",
    "- Excellent for periodic systems like crystals"
   ]
  },
  {
   "cell_type": "code",
   "execution_count": 5,
   "id": "b6974c68",
   "metadata": {},
   "outputs": [
    {
     "name": "stdout",
     "output_type": "stream",
     "text": [
      "============================================================\n",
      "SETTING UP SOAP DESCRIPTOR\n",
      "============================================================\n",
      "✓ Found 83 unique elements\n",
      "Elements: Ac, Ag, Al, As, Au, B, Ba, Be, Bi, Br, C, Ca, Cd, Ce, Cl, Co, Cr, Cs, Cu, Dy...\n",
      "✓ SOAP descriptor initialized\n",
      "   r_cut: 6.0 Å\n",
      "   n_max: 6\n",
      "   l_max: 4\n",
      "   averaging: outer (global descriptor)\n"
     ]
    }
   ],
   "source": [
    "# Get all unique species in the dataset\n",
    "print(\"=\"*60)\n",
    "print(\"SETTING UP SOAP DESCRIPTOR\")\n",
    "print(\"=\"*60)\n",
    "\n",
    "species = set()\n",
    "for structure in df['structure']:\n",
    "    species.update([str(el) for el in structure.composition.elements])\n",
    "species = sorted(list(species))\n",
    "\n",
    "print(f\"✓ Found {len(species)} unique elements\")\n",
    "print(f\"Elements: {', '.join(species[:20])}{'...' if len(species) > 20 else ''}\")\n",
    "\n",
    "# Create SOAP descriptor\n",
    "# Using smaller parameters for faster computation\n",
    "soap = SOAP(\n",
    "    species=species,\n",
    "    periodic=True,\n",
    "    r_cut=6.0,\n",
    "    n_max=6,\n",
    "    l_max=4,\n",
    "    average=\"outer\",  # Average over all atoms\n",
    "    sparse=False\n",
    ")\n",
    "\n",
    "print(f\"✓ SOAP descriptor initialized\")\n",
    "print(f\"   r_cut: 6.0 Å\")\n",
    "print(f\"   n_max: 6\")\n",
    "print(f\"   l_max: 4\")\n",
    "print(f\"   averaging: outer (global descriptor)\")"
   ]
  },
  {
   "cell_type": "code",
   "execution_count": 6,
   "id": "fb8df387",
   "metadata": {},
   "outputs": [
    {
     "name": "stdout",
     "output_type": "stream",
     "text": [
      "\n",
      "Featurizing structures with SOAP...\n",
      "(This may take a few minutes for large datasets)\n",
      "✓ Converted 1386 structures to ASE format\n",
      "✓ SOAP featurization complete: 621255 features\n"
     ]
    }
   ],
   "source": [
    "# Convert structures to ASE and featurize\n",
    "print(\"\\nFeaturizing structures with SOAP...\")\n",
    "print(\"(This may take a few minutes for large datasets)\")\n",
    "\n",
    "ase_structures = []\n",
    "valid_indices = []\n",
    "\n",
    "for idx, structure in enumerate(df['structure']):\n",
    "    try:\n",
    "        ase_struct = AseAtomsAdaptor.get_atoms(structure)\n",
    "        ase_structures.append(ase_struct)\n",
    "        valid_indices.append(idx)\n",
    "    except Exception as e:\n",
    "        print(f\"Warning: Could not convert structure {idx}: {e}\")\n",
    "        continue\n",
    "\n",
    "print(f\"✓ Converted {len(ase_structures)} structures to ASE format\")\n",
    "\n",
    "# Create SOAP features\n",
    "soap_features = soap.create(ase_structures, n_jobs=-1)\n",
    "print(f\"✓ SOAP featurization complete: {soap_features.shape[1]} features\")\n",
    "\n",
    "# Update dataframe to only include valid structures\n",
    "df = df.iloc[valid_indices].reset_index(drop=True)"
   ]
  },
  {
   "cell_type": "code",
   "execution_count": null,
   "id": "89ec9032",
   "metadata": {},
   "outputs": [
    {
     "name": "stdout",
     "output_type": "stream",
     "text": [
      "\n",
      "============================================================\n",
      "FEATURE CLEANING\n",
      "============================================================\n",
      "Initial features: 621255\n",
      "After removing low variance: 131133\n"
     ]
    }
   ],
   "source": [
    "# Create feature dataframe\n",
    "print(\"\\n\" + \"=\"*60)\n",
    "print(\"FEATURE CLEANING\")\n",
    "print(\"=\"*60)\n",
    "\n",
    "X_all = pd.DataFrame(soap_features)\n",
    "print(f\"Initial features: {X_all.shape[1]}\")\n",
    "\n",
    "# Remove low variance features\n",
    "variance_threshold = 1e-5\n",
    "low_var_mask = X_all.var() > variance_threshold\n",
    "X_all = X_all.loc[:, low_var_mask]\n",
    "print(f\"After removing low variance: {X_all.shape[1]}\")\n",
    "\n",
    "# Remove highly correlated features\n",
    "corr_matrix = X_all.corr().abs()\n",
    "upper = corr_matrix.where(np.triu(np.ones(corr_matrix.shape), k=1).astype(bool))\n",
    "to_drop = [col for col in upper.columns if any(upper[col] > 0.99)]\n",
    "X_clean = X_all.drop(columns=to_drop)\n",
    "\n",
    "print(f\"After removing high correlation: {X_clean.shape[1]}\")\n",
    "print(f\"✓ Final feature count: {X_clean.shape[1]}\")"
   ]
  },
  {
   "cell_type": "code",
   "execution_count": null,
   "id": "26304503",
   "metadata": {},
   "outputs": [],
   "source": [
    "# Prepare target and features\n",
    "y = df['band_gap'].values\n",
    "X = X_clean.values\n",
    "\n",
    "print(f\"\\nFinal dataset shape:\")\n",
    "print(f\"  Features (X): {X.shape}\")\n",
    "print(f\"  Target (y): {y.shape}\")\n",
    "\n",
    "# Check for any NaN or inf values\n",
    "if np.any(np.isnan(X)) or np.any(np.isinf(X)):\n",
    "    print(\"Warning: Found NaN or inf values, replacing with 0\")\n",
    "    X = np.nan_to_num(X, nan=0.0, posinf=0.0, neginf=0.0)\n",
    "\n",
    "if np.any(np.isnan(y)) or np.any(np.isinf(y)):\n",
    "    print(\"Warning: Found NaN or inf in target\")\n",
    "    y = np.nan_to_num(y, nan=0.0, posinf=0.0, neginf=0.0)"
   ]
  },
  {
   "cell_type": "code",
   "execution_count": null,
   "id": "47b1edb8",
   "metadata": {},
   "outputs": [],
   "source": [
    "# Scale features\n",
    "print(\"\\n\" + \"=\"*60)\n",
    "print(\"DATA SPLITTING\")\n",
    "print(\"=\"*60)\n",
    "\n",
    "scaler = StandardScaler()\n",
    "X_scaled = scaler.fit_transform(X)\n",
    "\n",
    "# Split data: 70% train, 20% val, 10% test\n",
    "test_fraction = 0.1\n",
    "val_fraction = 0.2\n",
    "\n",
    "X_trainval, X_test, y_trainval, y_test = train_test_split(\n",
    "    X_scaled, y, test_size=test_fraction, random_state=17\n",
    ")\n",
    "X_train, X_val, y_train, y_val = train_test_split(\n",
    "    X_trainval, y_trainval, test_size=val_fraction/(1-test_fraction), random_state=17\n",
    ")\n",
    "\n",
    "print(f\"Train: {X_train.shape[0]} samples ({X_train.shape[0]/len(X)*100:.1f}%)\")\n",
    "print(f\"Val:   {X_val.shape[0]} samples ({X_val.shape[0]/len(X)*100:.1f}%)\")\n",
    "print(f\"Test:  {X_test.shape[0]} samples ({X_test.shape[0]/len(X)*100:.1f}%)\")\n",
    "\n",
    "# Baseline model\n",
    "baseline_mae = mean_absolute_error(y_val, [y_train.mean()] * len(y_val))\n",
    "print(f\"\\n✓ Baseline MAE (mean predictor): {baseline_mae:.4f} eV\")"
   ]
  },
  {
   "cell_type": "code",
   "execution_count": null,
   "id": "5aeefab2",
   "metadata": {},
   "outputs": [],
   "source": [
    "# Train Random Forest\n",
    "print(\"\\n\" + \"=\"*60)\n",
    "print(\"MODEL TRAINING\")\n",
    "print(\"=\"*60)\n",
    "\n",
    "print(\"Training Random Forest Regressor...\")\n",
    "rf = RandomForestRegressor(\n",
    "    n_estimators=100,\n",
    "    max_depth=20,\n",
    "    min_samples_split=5,\n",
    "    random_state=17,\n",
    "    n_jobs=-1\n",
    ")\n",
    "\n",
    "rf.fit(X_train, y_train)\n",
    "print(\"✓ Model trained successfully\")\n",
    "\n",
    "# Predictions\n",
    "y_train_pred = rf.predict(X_train)\n",
    "y_val_pred = rf.predict(X_val)\n",
    "y_test_pred = rf.predict(X_test)"
   ]
  },
  {
   "cell_type": "code",
   "execution_count": null,
   "id": "e255872d",
   "metadata": {},
   "outputs": [],
   "source": [
    "# Calculate metrics\n",
    "print(\"\\n\" + \"=\"*60)\n",
    "print(\"MODEL PERFORMANCE\")\n",
    "print(\"=\"*60)\n",
    "\n",
    "# MAE\n",
    "mae_train = mean_absolute_error(y_train, y_train_pred)\n",
    "mae_val = mean_absolute_error(y_val, y_val_pred)\n",
    "mae_test = mean_absolute_error(y_test, y_test_pred)\n",
    "\n",
    "# RMSE\n",
    "rmse_train = np.sqrt(mean_squared_error(y_train, y_train_pred))\n",
    "rmse_val = np.sqrt(mean_squared_error(y_val, y_val_pred))\n",
    "rmse_test = np.sqrt(mean_squared_error(y_test, y_test_pred))\n",
    "\n",
    "# R²\n",
    "r2_train = r2_score(y_train, y_train_pred)\n",
    "r2_val = r2_score(y_val, y_val_pred)\n",
    "r2_test = r2_score(y_test, y_test_pred)\n",
    "\n",
    "print(\"Train Set:\")\n",
    "print(f\"  MAE:  {mae_train:.4f} eV\")\n",
    "print(f\"  RMSE: {rmse_train:.4f} eV\")\n",
    "print(f\"  R²:   {r2_train:.4f}\")\n",
    "\n",
    "print(\"\\nValidation Set:\")\n",
    "print(f\"  MAE:  {mae_val:.4f} eV\")\n",
    "print(f\"  RMSE: {rmse_val:.4f} eV\")\n",
    "print(f\"  R²:   {r2_val:.4f}\")\n",
    "\n",
    "print(\"\\nTest Set:\")\n",
    "print(f\"  MAE:  {mae_test:.4f} eV\")\n",
    "print(f\"  RMSE: {rmse_test:.4f} eV\")\n",
    "print(f\"  R²:   {r2_test:.4f}\")\n",
    "\n",
    "print(f\"\\nBaseline MAE: {baseline_mae:.4f} eV\")\n",
    "print(f\"Improvement over baseline: {(1 - mae_test/baseline_mae)*100:.1f}%\")"
   ]
  },
  {
   "cell_type": "code",
   "execution_count": null,
   "id": "ad3b4e5b",
   "metadata": {},
   "outputs": [],
   "source": [
    "# Create parity plots for all three sets\n",
    "print(\"\\n\" + \"=\"*60)\n",
    "print(\"CREATING PARITY PLOTS\")\n",
    "print(\"=\"*60)\n",
    "\n",
    "fig, axes = plt.subplots(1, 3, figsize=(18, 5))\n",
    "\n",
    "max_val = max(y_train.max(), y_val.max(), y_test.max())\n",
    "min_val = min(y_train.min(), y_val.min(), y_test.min())\n",
    "\n",
    "# Train\n",
    "axes[0].scatter(y_train, y_train_pred, alpha=0.5, s=20, edgecolors='black', linewidths=0.5)\n",
    "axes[0].plot([min_val, max_val], [min_val, max_val], 'r--', lw=2, label='Perfect prediction')\n",
    "axes[0].set_xlabel('True Band Gap (eV)', fontsize=12)\n",
    "axes[0].set_ylabel('Predicted Band Gap (eV)', fontsize=12)\n",
    "axes[0].set_title(f'Train Set\\nMAE={mae_train:.3f} eV, R²={r2_train:.3f}', fontsize=11)\n",
    "axes[0].legend()\n",
    "axes[0].grid(alpha=0.3)\n",
    "\n",
    "# Validation\n",
    "axes[1].scatter(y_val, y_val_pred, alpha=0.5, s=20, edgecolors='black', linewidths=0.5, color='orange')\n",
    "axes[1].plot([min_val, max_val], [min_val, max_val], 'r--', lw=2)\n",
    "axes[1].set_xlabel('True Band Gap (eV)', fontsize=12)\n",
    "axes[1].set_ylabel('Predicted Band Gap (eV)', fontsize=12)\n",
    "axes[1].set_title(f'Validation Set\\nMAE={mae_val:.3f} eV, R²={r2_val:.3f}', fontsize=11)\n",
    "axes[1].grid(alpha=0.3)\n",
    "\n",
    "# Test\n",
    "axes[2].scatter(y_test, y_test_pred, alpha=0.5, s=20, edgecolors='black', linewidths=0.5, color='green')\n",
    "axes[2].plot([min_val, max_val], [min_val, max_val], 'r--', lw=2)\n",
    "axes[2].set_xlabel('True Band Gap (eV)', fontsize=12)\n",
    "axes[2].set_ylabel('Predicted Band Gap (eV)', fontsize=12)\n",
    "axes[2].set_title(f'Test Set\\nMAE={mae_test:.3f} eV, R²={r2_test:.3f}', fontsize=11)\n",
    "axes[2].grid(alpha=0.3)\n",
    "\n",
    "plt.tight_layout()\n",
    "plt.savefig('parity_plots_mp_bandgap.png', dpi=150, bbox_inches='tight')\n",
    "plt.show()\n",
    "\n",
    "print(\"✓ Parity plots saved as 'parity_plots_mp_bandgap.png'\")"
   ]
  },
  {
   "cell_type": "code",
   "execution_count": null,
   "id": "503edb6b",
   "metadata": {},
   "outputs": [],
   "source": [
    "# Create summary dataframe\n",
    "print(\"\\n\" + \"=\"*60)\n",
    "print(\"FINAL SUMMARY\")\n",
    "print(\"=\"*60)\n",
    "\n",
    "summary_data = {\n",
    "    'Metric': ['Dataset Size', 'SOAP Features', 'Target Property', \n",
    "               'Test MAE (eV)', 'Test RMSE (eV)', 'Test R²', 'Baseline MAE (eV)'],\n",
    "    'Value': [\n",
    "        len(df),\n",
    "        X_clean.shape[1],\n",
    "        'Band Gap',\n",
    "        f'{mae_test:.4f}',\n",
    "        f'{rmse_test:.4f}',\n",
    "        f'{r2_test:.4f}',\n",
    "        f'{baseline_mae:.4f}'\n",
    "    ]\n",
    "}\n",
    "\n",
    "summary_df = pd.DataFrame(summary_data)\n",
    "print(summary_df.to_string(index=False))\n",
    "\n",
    "# Save to CSV\n",
    "summary_df.to_csv('mp_ml_pipeline_summary.csv', index=False)\n",
    "print(\"\\n✓ Summary saved to 'mp_ml_pipeline_summary.csv'\")\n",
    "\n",
    "print(\"\\n\" + \"=\"*60)\n",
    "print(\"✅ Assignment 2 Complete!\")\n",
    "print(\"=\"*60)"
   ]
  }
 ],
 "metadata": {
  "kernelspec": {
   "display_name": "ML4MSD-HW-Ardavan",
   "language": "python",
   "name": "python3"
  },
  "language_info": {
   "codemirror_mode": {
    "name": "ipython",
    "version": 3
   },
   "file_extension": ".py",
   "mimetype": "text/x-python",
   "name": "python",
   "nbconvert_exporter": "python",
   "pygments_lexer": "ipython3",
   "version": "3.11.9"
  }
 },
 "nbformat": 4,
 "nbformat_minor": 5
}
