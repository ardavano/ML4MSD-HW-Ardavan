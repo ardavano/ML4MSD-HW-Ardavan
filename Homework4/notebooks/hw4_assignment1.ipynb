{
 "cells": [
  {
   "cell_type": "markdown",
   "id": "5e657e32",
   "metadata": {},
   "source": [
    "# ML4MSD - Homework 4: Assignment 1\n",
    "# Exercise 11.1 - Full ML Pipeline\n",
    "\n",
    "**Author**: Ardavan Mehdizadeh  \n",
    "**Date**: Oct 20, 2025  \n",
    "**Dataset**: matbench_jdft2d (Exfoliation Energy)\n",
    "\n",
    "## Dataset Selection\n",
    "\n",
    "I chose **matbench_jdft2d** because exfoliation energy relates to my research on surface energy and cleavage energy prediction. Now for this case, since I am focusing on predicting interlayer bonding strength in 2D materials, I selected ElementProperty (Magpie) for comprehensive elemental statistics and EwaldSumMatrix to capture long-range electrostatic interactions between layers.\n",
    "\n",
    "## Featurization Approaches\n",
    "\n",
    "1. **Compositional**: ElementProperty (Magpie preset)\n",
    "2. **Structural**: EwaldSumMatrix"
   ]
  },
  {
   "cell_type": "code",
   "execution_count": 3,
   "id": "42acf4a9",
   "metadata": {},
   "outputs": [
    {
     "name": "stderr",
     "output_type": "stream",
     "text": [
      "/Users/mehdizadeh.a/Library/CloudStorage/OneDrive-NortheasternUniversity/ML4MSD-HW-Ardavan/.venv/lib/python3.11/site-packages/tqdm/auto.py:21: TqdmWarning: IProgress not found. Please update jupyter and ipywidgets. See https://ipywidgets.readthedocs.io/en/stable/user_install.html\n",
      "  from .autonotebook import tqdm as notebook_tqdm\n"
     ]
    },
    {
     "name": "stdout",
     "output_type": "stream",
     "text": [
      "Loading matbench_jdft2d dataset...\n",
      "Fetching matbench_jdft2d.json.gz from https://ml.materialsproject.org/projects/matbench_jdft2d.json.gz to /Users/mehdizadeh.a/Library/CloudStorage/OneDrive-NortheasternUniversity/ML4MSD-HW-Ardavan/.venv/lib/python3.11/site-packages/matminer/datasets/matbench_jdft2d.json.gz\n"
     ]
    },
    {
     "name": "stderr",
     "output_type": "stream",
     "text": [
      "Fetching https://ml.materialsproject.org/projects/matbench_jdft2d.json.gz in MB: 0.26828799999999997MB [00:00, 90.49MB/s]      "
     ]
    },
    {
     "name": "stdout",
     "output_type": "stream",
     "text": [
      "✓ Dataset loaded: 636 samples\n",
      "✓ Target: exfoliation_en (meV/atom)\n",
      "\n",
      "Target statistics:\n",
      "count     636.000000\n",
      "mean      112.698309\n",
      "std       134.276663\n",
      "min         0.026500\n",
      "25%        58.811481\n",
      "50%        79.803667\n",
      "75%       101.289264\n",
      "max      1604.038286\n",
      "Name: exfoliation_en, dtype: float64\n"
     ]
    },
    {
     "name": "stderr",
     "output_type": "stream",
     "text": [
      "\n"
     ]
    }
   ],
   "source": [
    "import pandas as pd\n",
    "import numpy as np\n",
    "import matplotlib.pyplot as plt\n",
    "from matminer.datasets import load_dataset\n",
    "from matminer.featurizers.composition.composite import ElementProperty\n",
    "from dscribe.descriptors import EwaldSumMatrix\n",
    "from pymatgen.io.ase import AseAtomsAdaptor\n",
    "from sklearn.preprocessing import StandardScaler\n",
    "from sklearn.model_selection import train_test_split\n",
    "from sklearn.ensemble import RandomForestRegressor\n",
    "from sklearn.metrics import mean_absolute_error, r2_score\n",
    "\n",
    "# Load dataset\n",
    "print(\"Loading matbench_jdft2d dataset...\")\n",
    "df = load_dataset('matbench_jdft2d')\n",
    "print(f\"✓ Dataset loaded: {len(df)} samples\")\n",
    "print(f\"✓ Target: exfoliation_en (meV/atom)\")\n",
    "print(\"\\nTarget statistics:\")\n",
    "print(df['exfoliation_en'].describe())"
   ]
  },
  {
   "cell_type": "markdown",
   "id": "567a5852",
   "metadata": {},
   "source": [
    "## 1. Compositional Featurization (ElementProperty - Magpie)"
   ]
  },
  {
   "cell_type": "code",
   "execution_count": 4,
   "id": "a27c4b2f",
   "metadata": {},
   "outputs": [
    {
     "name": "stderr",
     "output_type": "stream",
     "text": [
      "/Users/mehdizadeh.a/Library/CloudStorage/OneDrive-NortheasternUniversity/ML4MSD-HW-Ardavan/.venv/lib/python3.11/site-packages/matminer/utils/data.py:326: UserWarning: MagpieData(impute_nan=False):\n",
      "In a future release, impute_nan will be set to True by default.\n",
      "                    This means that features that are missing or are NaNs for elements\n",
      "                    from the data source will be replaced by the average of that value\n",
      "                    over the available elements.\n",
      "                    This avoids NaNs after featurization that are often replaced by\n",
      "                    dataset-dependent averages.\n",
      "  warnings.warn(f\"{self.__class__.__name__}(impute_nan=False):\\n\" + IMPUTE_NAN_WARNING)\n"
     ]
    },
    {
     "name": "stdout",
     "output_type": "stream",
     "text": [
      "✓ Compositions extracted\n"
     ]
    },
    {
     "name": "stderr",
     "output_type": "stream",
     "text": [
      "ElementProperty: 100%|██████████| 636/636 [00:00<00:00, 1261.53it/s]"
     ]
    },
    {
     "name": "stdout",
     "output_type": "stream",
     "text": [
      "✓ Generated 132 features\n"
     ]
    },
    {
     "name": "stderr",
     "output_type": "stream",
     "text": [
      "\n"
     ]
    }
   ],
   "source": [
    "# Extract compositions\n",
    "df_comp = df.copy()\n",
    "df_comp['composition'] = df_comp['structure'].apply(lambda x: x.composition)\n",
    "print(\"✓ Compositions extracted\")\n",
    "\n",
    "# Featurize with ElementProperty\n",
    "el_prop = ElementProperty.from_preset(preset_name='magpie', impute_nan=False)\n",
    "el_prop.set_n_jobs(1)\n",
    "df_feat1 = el_prop.featurize_dataframe(df_comp, col_id='composition')\n",
    "print(f\"✓ Generated {df_feat1.shape[1]-3} features\")"
   ]
  },
  {
   "cell_type": "code",
   "execution_count": 5,
   "id": "b9110b50",
   "metadata": {},
   "outputs": [
    {
     "name": "stdout",
     "output_type": "stream",
     "text": [
      "Initial features: 132\n",
      "After removing low variance: 126\n",
      "✓ Final compositional features: 112\n"
     ]
    }
   ],
   "source": [
    "# Prepare target and features\n",
    "y = df_feat1['exfoliation_en']\n",
    "X_all = df_feat1.drop(columns=['exfoliation_en', 'structure', 'composition'])\n",
    "\n",
    "print(f\"Initial features: {X_all.shape[1]}\")\n",
    "\n",
    "# Remove low variance features\n",
    "X_all = X_all.loc[:, X_all.var() > 1e-5]\n",
    "print(f\"After removing low variance: {X_all.shape[1]}\")\n",
    "\n",
    "# Remove highly correlated features\n",
    "corr_matrix = X_all.corr().abs()\n",
    "upper = corr_matrix.where(np.triu(np.ones(corr_matrix.shape), k=1).astype(bool))\n",
    "to_drop = [col for col in upper.columns if any(upper[col] > 0.99)]\n",
    "X_comp = X_all.drop(columns=to_drop)\n",
    "\n",
    "print(f\"✓ Final compositional features: {X_comp.shape[1]}\")"
   ]
  },
  {
   "cell_type": "code",
   "execution_count": 6,
   "id": "5299edfc",
   "metadata": {},
   "outputs": [
    {
     "name": "stdout",
     "output_type": "stream",
     "text": [
      "Train: 444 samples\n",
      "Val:   128 samples\n",
      "Test:  64 samples\n",
      "\n",
      "✓ Baseline MAE: 57.9636 meV/atom\n"
     ]
    }
   ],
   "source": [
    "# Scale features\n",
    "scaler_comp = StandardScaler()\n",
    "X_scaled = scaler_comp.fit_transform(X_comp)\n",
    "\n",
    "# Split data\n",
    "X_trainval, X_test, y_trainval, y_test = train_test_split(\n",
    "    X_scaled, y, test_size=0.1, random_state=17\n",
    ")\n",
    "X_train, X_val, y_train, y_val = train_test_split(\n",
    "    X_trainval, y_trainval, test_size=0.2/(1-0.1), random_state=17\n",
    ")\n",
    "\n",
    "print(f\"Train: {X_train.shape[0]} samples\")\n",
    "print(f\"Val:   {X_val.shape[0]} samples\")\n",
    "print(f\"Test:  {X_test.shape[0]} samples\")\n",
    "\n",
    "# Baseline\n",
    "baseline_mae = mean_absolute_error(y_val, [y_train.mean()] * len(y_val))\n",
    "print(f\"\\n✓ Baseline MAE: {baseline_mae:.4f} meV/atom\")"
   ]
  },
  {
   "cell_type": "code",
   "execution_count": 7,
   "id": "93a87b99",
   "metadata": {},
   "outputs": [
    {
     "name": "stdout",
     "output_type": "stream",
     "text": [
      "Training compositional model...\n",
      "\n",
      "✓ Compositional Results:\n",
      "   Test MAE: 46.8878 meV/atom\n",
      "   Test R²:  0.6629\n"
     ]
    }
   ],
   "source": [
    "# Train Random Forest\n",
    "print(\"Training compositional model...\")\n",
    "rf_comp = RandomForestRegressor(n_estimators=100, random_state=17, n_jobs=-1)\n",
    "rf_comp.fit(X_train, y_train)\n",
    "\n",
    "# Evaluate on test set\n",
    "y_test_pred_comp = rf_comp.predict(X_test)\n",
    "mae_test_comp = mean_absolute_error(y_test, y_test_pred_comp)\n",
    "r2_test_comp = r2_score(y_test, y_test_pred_comp)\n",
    "\n",
    "print(f\"\\n✓ Compositional Results:\")\n",
    "print(f\"   Test MAE: {mae_test_comp:.4f} meV/atom\")\n",
    "print(f\"   Test R²:  {r2_test_comp:.4f}\")"
   ]
  },
  {
   "cell_type": "markdown",
   "id": "de75bb28",
   "metadata": {},
   "source": [
    "## 2. Structural Featurization (EwaldSumMatrix)"
   ]
  },
  {
   "cell_type": "code",
   "execution_count": 8,
   "id": "3edec236",
   "metadata": {},
   "outputs": [
    {
     "name": "stdout",
     "output_type": "stream",
     "text": [
      "Maximum atoms in structures: 35\n",
      "✓ EwaldSumMatrix initialized\n",
      "Featurizing structures...\n",
      "✓ Generated 35 EwaldSumMatrix features\n"
     ]
    }
   ],
   "source": [
    "# Setup EwaldSumMatrix\n",
    "n_max = max(len(s) for s in df['structure'])\n",
    "print(f\"Maximum atoms in structures: {n_max}\")\n",
    "\n",
    "ews = EwaldSumMatrix(n_atoms_max=n_max, permutation=\"eigenspectrum\")\n",
    "print(\"✓ EwaldSumMatrix initialized\")\n",
    "\n",
    "# Featurize\n",
    "print(\"Featurizing structures...\")\n",
    "ase_structures = [AseAtomsAdaptor.get_atoms(s) for s in df['structure']]\n",
    "ews_features = ews.create(ase_structures)\n",
    "print(f\"✓ Generated {ews_features.shape[1]} EwaldSumMatrix features\")"
   ]
  },
  {
   "cell_type": "code",
   "execution_count": 9,
   "id": "8fef070c",
   "metadata": {},
   "outputs": [
    {
     "name": "stdout",
     "output_type": "stream",
     "text": [
      "Initial features: 35\n",
      "After removing low variance: 35\n",
      "✓ Final EwaldSumMatrix features: 24\n"
     ]
    }
   ],
   "source": [
    "# Clean features\n",
    "X_ews = pd.DataFrame(ews_features)\n",
    "print(f\"Initial features: {X_ews.shape[1]}\")\n",
    "\n",
    "X_ews = X_ews.loc[:, X_ews.var() > 1e-5]\n",
    "print(f\"After removing low variance: {X_ews.shape[1]}\")\n",
    "\n",
    "corr_matrix = X_ews.corr().abs()\n",
    "upper = corr_matrix.where(np.triu(np.ones(corr_matrix.shape), k=1).astype(bool))\n",
    "to_drop = [col for col in upper.columns if any(upper[col] > 0.99)]\n",
    "X_ews = X_ews.drop(columns=to_drop)\n",
    "\n",
    "print(f\"✓ Final EwaldSumMatrix features: {X_ews.shape[1]}\")"
   ]
  },
  {
   "cell_type": "code",
   "execution_count": 10,
   "id": "e73ae87e",
   "metadata": {},
   "outputs": [
    {
     "name": "stdout",
     "output_type": "stream",
     "text": [
      "Training structural model...\n",
      "\n",
      "✓ EwaldSumMatrix Results:\n",
      "   Test MAE: 66.2257 meV/atom\n",
      "   Test R²:  0.4553\n"
     ]
    }
   ],
   "source": [
    "# Scale and split\n",
    "scaler_ews = StandardScaler()\n",
    "X_ews_scaled = scaler_ews.fit_transform(X_ews)\n",
    "\n",
    "X_trainval_e, X_test_e, _, _ = train_test_split(\n",
    "    X_ews_scaled, y, test_size=0.1, random_state=17\n",
    ")\n",
    "X_train_e, X_val_e, _, _ = train_test_split(\n",
    "    X_trainval_e, y_trainval, test_size=0.2/(1-0.1), random_state=17\n",
    ")\n",
    "\n",
    "# Train model\n",
    "print(\"Training structural model...\")\n",
    "rf_ews = RandomForestRegressor(n_estimators=200, random_state=17, n_jobs=-1)\n",
    "rf_ews.fit(X_train_e, y_train)\n",
    "\n",
    "# Evaluate\n",
    "y_test_pred_ews = rf_ews.predict(X_test_e)\n",
    "mae_test_ews = mean_absolute_error(y_test, y_test_pred_ews)\n",
    "r2_test_ews = r2_score(y_test, y_test_pred_ews)\n",
    "\n",
    "print(f\"\\n✓ EwaldSumMatrix Results:\")\n",
    "print(f\"   Test MAE: {mae_test_ews:.4f} meV/atom\")\n",
    "print(f\"   Test R²:  {r2_test_ews:.4f}\")"
   ]
  },
  {
   "cell_type": "markdown",
   "id": "10726d8f",
   "metadata": {},
   "source": [
    "## 3. Results Summary"
   ]
  },
  {
   "cell_type": "code",
   "execution_count": 11,
   "id": "ad14ac51",
   "metadata": {},
   "outputs": [
    {
     "name": "stdout",
     "output_type": "stream",
     "text": [
      "============================================================\n",
      "GOOGLE SHEET SUBMISSION DATA\n",
      "============================================================\n",
      "Matminer Dataset: matbench_jdft2d\n",
      "Featurization 1: ElementProperty (magpie)\n",
      "Featurization 2: EwaldSumMatrix\n",
      "Scikit-Learn Model: RandomForestRegressor\n",
      "Mean Baseline MAE: 57.9636\n",
      "test-MAE (featurizer1): 46.8878\n",
      "test-R² (featurizer1): 0.6629\n",
      "test-MAE (featurizer2): 66.2257\n",
      "test-R² (featurizer2): 0.4553\n",
      "============================================================\n"
     ]
    }
   ],
   "source": [
    "print(\"=\"*60)\n",
    "print(\"GOOGLE SHEET SUBMISSION DATA\")\n",
    "print(\"=\"*60)\n",
    "print(f\"Matminer Dataset: matbench_jdft2d\")\n",
    "print(f\"Featurization 1: ElementProperty (magpie)\")\n",
    "print(f\"Featurization 2: EwaldSumMatrix\")\n",
    "print(f\"Scikit-Learn Model: RandomForestRegressor\")\n",
    "print(f\"Mean Baseline MAE: {baseline_mae:.4f}\")\n",
    "print(f\"test-MAE (featurizer1): {mae_test_comp:.4f}\")\n",
    "print(f\"test-R² (featurizer1): {r2_test_comp:.4f}\")\n",
    "print(f\"test-MAE (featurizer2): {mae_test_ews:.4f}\")\n",
    "print(f\"test-R² (featurizer2): {r2_test_ews:.4f}\")\n",
    "print(\"=\"*60)"
   ]
  },
  {
   "cell_type": "code",
   "execution_count": 12,
   "id": "1aac806f",
   "metadata": {},
   "outputs": [
    {
     "data": {
      "image/png": "[encoded data removed]",
      "text/plain": [
       "<Figure size 1200x500 with 2 Axes>"
      ]
     },
     "metadata": {},
     "output_type": "display_data"
    },
    {
     "name": "stdout",
     "output_type": "stream",
     "text": [
      "✅ Assignment complete! Results saved to hw4_results.png\n"
     ]
    }
   ],
   "source": [
    "# Create parity plots\n",
    "fig, axes = plt.subplots(1, 2, figsize=(12, 5))\n",
    "\n",
    "# Compositional\n",
    "axes[0].scatter(y_test, y_test_pred_comp, alpha=0.6, edgecolors='black', linewidths=0.5)\n",
    "axes[0].plot([y_test.min(), y_test.max()], [y_test.min(), y_test.max()], 'r--', lw=2)\n",
    "axes[0].set_xlabel('True Exfoliation Energy (meV/atom)')\n",
    "axes[0].set_ylabel('Predicted (meV/atom)')\n",
    "axes[0].set_title(f'Compositional (Magpie)\\nMAE={mae_test_comp:.2f}, R²={r2_test_comp:.3f}')\n",
    "axes[0].grid(alpha=0.3)\n",
    "\n",
    "# Structural\n",
    "axes[1].scatter(y_test, y_test_pred_ews, alpha=0.6, edgecolors='black', linewidths=0.5)\n",
    "axes[1].plot([y_test.min(), y_test.max()], [y_test.min(), y_test.max()], 'r--', lw=2)\n",
    "axes[1].set_xlabel('True Exfoliation Energy (meV/atom)')\n",
    "axes[1].set_ylabel('Predicted (meV/atom)')\n",
    "axes[1].set_title(f'EwaldSumMatrix\\nMAE={mae_test_ews:.2f}, R²={r2_test_ews:.3f}')\n",
    "axes[1].grid(alpha=0.3)\n",
    "\n",
    "plt.tight_layout()\n",
    "plt.savefig('hw4_results.png', dpi=150, bbox_inches='tight')\n",
    "plt.show()\n",
    "\n",
    "print(\"✅ Assignment complete! Results saved to hw4_results.png\")"
   ]
  }
 ],
 "metadata": {
  "kernelspec": {
   "display_name": "ML4MSD-HW-Ardavan",
   "language": "python",
   "name": "python3"
  },
  "language_info": {
   "codemirror_mode": {
    "name": "ipython",
    "version": 3
   },
   "file_extension": ".py",
   "mimetype": "text/x-python",
   "name": "python",
   "nbconvert_exporter": "python",
   "pygments_lexer": "ipython3",
   "version": "3.11.9"
  }
 },
 "nbformat": 4,
 "nbformat_minor": 5
}
