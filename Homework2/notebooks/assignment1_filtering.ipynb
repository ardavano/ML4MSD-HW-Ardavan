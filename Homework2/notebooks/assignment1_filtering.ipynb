{
 "cells": [
  {
   "cell_type": "markdown",
   "metadata": {},
   "source": [
    "# Assignment 1 - Filtering Performance Comparison\n",
    "\n",
    "Testing three different ways to filter the band gap data and comparing their speed."
   ]
  },
  {
   "cell_type": "code",
   "execution_count": 38,
   "metadata": {},
   "outputs": [],
   "source": [
    "import pandas as pd\n",
    "import numpy as np\n",
    "import time\n",
    "import matplotlib.pyplot as plt"
   ]
  },
  {
   "cell_type": "markdown",
   "metadata": {},
   "source": [
    "## Load the data"
   ]
  },
  {
   "cell_type": "code",
   "execution_count": 39,
   "metadata": {},
   "outputs": [
    {
     "name": "stdout",
     "output_type": "stream",
     "text": [
      "Total rows: 1459\n"
     ]
    },
    {
     "data": {
      "text/html": [
       "<div>\n",
       "<style scoped>\n",
       "    .dataframe tbody tr th:only-of-type {\n",
       "        vertical-align: middle;\n",
       "    }\n",
       "\n",
       "    .dataframe tbody tr th {\n",
       "        vertical-align: top;\n",
       "    }\n",
       "\n",
       "    .dataframe thead th {\n",
       "        text-align: right;\n",
       "    }\n",
       "</style>\n",
       "<table border=\"1\" class=\"dataframe\">\n",
       "  <thead>\n",
       "    <tr style=\"text-align: right;\">\n",
       "      <th></th>\n",
       "      <th>chemical_formula</th>\n",
       "      <th>crystallinity</th>\n",
       "      <th>band_gap</th>\n",
       "      <th>band_gap_units</th>\n",
       "      <th>band_gap_type</th>\n",
       "      <th>temperature_K</th>\n",
       "      <th>exp_method</th>\n",
       "      <th>data_type</th>\n",
       "    </tr>\n",
       "  </thead>\n",
       "  <tbody>\n",
       "    <tr>\n",
       "      <th>0</th>\n",
       "      <td>Li1F1</td>\n",
       "      <td>Single crystalline</td>\n",
       "      <td>13.60</td>\n",
       "      <td>eV</td>\n",
       "      <td>Direct</td>\n",
       "      <td>300.0</td>\n",
       "      <td>Reflection</td>\n",
       "      <td>EXPERIMENTAL</td>\n",
       "    </tr>\n",
       "    <tr>\n",
       "      <th>1</th>\n",
       "      <td>Li1F1</td>\n",
       "      <td>Single crystalline</td>\n",
       "      <td>12.61</td>\n",
       "      <td>eV</td>\n",
       "      <td>Excitonic</td>\n",
       "      <td>300.0</td>\n",
       "      <td>Reflection</td>\n",
       "      <td>EXPERIMENTAL</td>\n",
       "    </tr>\n",
       "    <tr>\n",
       "      <th>2</th>\n",
       "      <td>Li1F1</td>\n",
       "      <td>Single crystalline</td>\n",
       "      <td>12.60</td>\n",
       "      <td>eV</td>\n",
       "      <td>Excitonic</td>\n",
       "      <td>NaN</td>\n",
       "      <td>Estimated</td>\n",
       "      <td>EXPERIMENTAL</td>\n",
       "    </tr>\n",
       "    <tr>\n",
       "      <th>3</th>\n",
       "      <td>Li1F1</td>\n",
       "      <td>Single crystalline</td>\n",
       "      <td>12.10</td>\n",
       "      <td>eV</td>\n",
       "      <td>None</td>\n",
       "      <td>77.0</td>\n",
       "      <td>Absorption</td>\n",
       "      <td>EXPERIMENTAL</td>\n",
       "    </tr>\n",
       "    <tr>\n",
       "      <th>4</th>\n",
       "      <td>Li1F1</td>\n",
       "      <td>Single crystalline</td>\n",
       "      <td>12.00</td>\n",
       "      <td>eV</td>\n",
       "      <td>None</td>\n",
       "      <td>200.0</td>\n",
       "      <td>Absorption</td>\n",
       "      <td>EXPERIMENTAL</td>\n",
       "    </tr>\n",
       "  </tbody>\n",
       "</table>\n",
       "</div>"
      ],
      "text/plain": [
       "  chemical_formula       crystallinity  band_gap band_gap_units band_gap_type  \\\n",
       "0            Li1F1  Single crystalline     13.60             eV        Direct   \n",
       "1            Li1F1  Single crystalline     12.61             eV     Excitonic   \n",
       "2            Li1F1  Single crystalline     12.60             eV     Excitonic   \n",
       "3            Li1F1  Single crystalline     12.10             eV          None   \n",
       "4            Li1F1  Single crystalline     12.00             eV          None   \n",
       "\n",
       "   temperature_K  exp_method     data_type  \n",
       "0          300.0  Reflection  EXPERIMENTAL  \n",
       "1          300.0  Reflection  EXPERIMENTAL  \n",
       "2            NaN   Estimated  EXPERIMENTAL  \n",
       "3           77.0  Absorption  EXPERIMENTAL  \n",
       "4          200.0  Absorption  EXPERIMENTAL  "
      ]
     },
     "execution_count": 39,
     "metadata": {},
     "output_type": "execute_result"
    }
   ],
   "source": [
    "# Load band gap data\n",
    "bgdata = pd.read_json('../data/band_gap_data.json')\n",
    "print(f\"Total rows: {len(bgdata)}\")\n",
    "bgdata.head()"
   ]
  },
  {
   "cell_type": "code",
   "execution_count": 40,
   "metadata": {},
   "outputs": [
    {
     "name": "stdout",
     "output_type": "stream",
     "text": [
      "<class 'pandas.core.frame.DataFrame'>\n",
      "RangeIndex: 1459 entries, 0 to 1458\n",
      "Data columns (total 8 columns):\n",
      " #   Column            Non-Null Count  Dtype  \n",
      "---  ------            --------------  -----  \n",
      " 0   chemical_formula  1459 non-null   object \n",
      " 1   crystallinity     1285 non-null   object \n",
      " 2   band_gap          1447 non-null   float64\n",
      " 3   band_gap_units    1447 non-null   object \n",
      " 4   band_gap_type     596 non-null    object \n",
      " 5   temperature_K     1220 non-null   float64\n",
      " 6   exp_method        1318 non-null   object \n",
      " 7   data_type         1447 non-null   object \n",
      "dtypes: float64(2), object(6)\n",
      "memory usage: 91.3+ KB\n"
     ]
    }
   ],
   "source": [
    "# Check what columns we have\n",
    "bgdata.info()"
   ]
  },
  {
   "cell_type": "code",
   "execution_count": 41,
   "metadata": {},
   "outputs": [
    {
     "name": "stdout",
     "output_type": "stream",
     "text": [
      "Unique crystallinity values:\n",
      "['Single crystalline' 'Polycrystalline' None 'Amorphous']\n",
      "\n",
      "Unique exp_method values:\n",
      "['Reflection' 'Estimated' 'Absorption' 'Thermal activation' None 'SCOPW'\n",
      " 'Photoconduction' 'APW' 'Electroreflection' 'Magnetoreflection'\n",
      " 'Magnetoabsorption']\n"
     ]
    }
   ],
   "source": [
    "# Look at unique values for the columns we need\n",
    "print(\"Unique crystallinity values:\")\n",
    "print(bgdata['crystallinity'].unique())\n",
    "print(\"\\nUnique exp_method values:\")\n",
    "print(bgdata['exp_method'].unique())"
   ]
  },
  {
   "cell_type": "markdown",
   "metadata": {},
   "source": [
    "## Method 1: Boolean Mask\n",
    "\n",
    "Using boolean indexing - this is what we learned in class"
   ]
  },
  {
   "cell_type": "code",
   "execution_count": 42,
   "metadata": {},
   "outputs": [
    {
     "name": "stdout",
     "output_type": "stream",
     "text": [
      "Boolean mask method:\n",
      "  Rows found: 46\n",
      "  Time taken: 0.001152 seconds\n"
     ]
    }
   ],
   "source": [
    "# Method 1: Boolean mask\n",
    "start = time.time()\n",
    "\n",
    "# Apply all three filters\n",
    "filtered_bool = bgdata[(bgdata['temperature_K'] > 50) & \n",
    "                       (bgdata['crystallinity'] == 'Polycrystalline') & \n",
    "                       (bgdata['exp_method'] == 'Reflection')]\n",
    "\n",
    "time_bool = time.time() - start\n",
    "\n",
    "print(f\"Boolean mask method:\")\n",
    "print(f\"  Rows found: {len(filtered_bool)}\")\n",
    "print(f\"  Time taken: {time_bool:.6f} seconds\")"
   ]
  },
  {
   "cell_type": "code",
   "execution_count": 43,
   "metadata": {},
   "outputs": [
    {
     "data": {
      "text/html": [
       "<div>\n",
       "<style scoped>\n",
       "    .dataframe tbody tr th:only-of-type {\n",
       "        vertical-align: middle;\n",
       "    }\n",
       "\n",
       "    .dataframe tbody tr th {\n",
       "        vertical-align: top;\n",
       "    }\n",
       "\n",
       "    .dataframe thead th {\n",
       "        text-align: right;\n",
       "    }\n",
       "</style>\n",
       "<table border=\"1\" class=\"dataframe\">\n",
       "  <thead>\n",
       "    <tr style=\"text-align: right;\">\n",
       "      <th></th>\n",
       "      <th>chemical_formula</th>\n",
       "      <th>crystallinity</th>\n",
       "      <th>band_gap</th>\n",
       "      <th>band_gap_units</th>\n",
       "      <th>band_gap_type</th>\n",
       "      <th>temperature_K</th>\n",
       "      <th>exp_method</th>\n",
       "      <th>data_type</th>\n",
       "    </tr>\n",
       "  </thead>\n",
       "  <tbody>\n",
       "    <tr>\n",
       "      <th>282</th>\n",
       "      <td>Sc2O3</td>\n",
       "      <td>Polycrystalline</td>\n",
       "      <td>5.40</td>\n",
       "      <td>eV</td>\n",
       "      <td>None</td>\n",
       "      <td>300.0</td>\n",
       "      <td>Reflection</td>\n",
       "      <td>EXPERIMENTAL</td>\n",
       "    </tr>\n",
       "    <tr>\n",
       "      <th>321</th>\n",
       "      <td>Cr2O3</td>\n",
       "      <td>Polycrystalline</td>\n",
       "      <td>1.62</td>\n",
       "      <td>eV</td>\n",
       "      <td>None</td>\n",
       "      <td>300.0</td>\n",
       "      <td>Reflection</td>\n",
       "      <td>EXPERIMENTAL</td>\n",
       "    </tr>\n",
       "    <tr>\n",
       "      <th>355</th>\n",
       "      <td>Fe2O3</td>\n",
       "      <td>Polycrystalline</td>\n",
       "      <td>2.20</td>\n",
       "      <td>eV</td>\n",
       "      <td>None</td>\n",
       "      <td>300.0</td>\n",
       "      <td>Reflection</td>\n",
       "      <td>EXPERIMENTAL</td>\n",
       "    </tr>\n",
       "    <tr>\n",
       "      <th>383</th>\n",
       "      <td>Ni1O1</td>\n",
       "      <td>Polycrystalline</td>\n",
       "      <td>4.00</td>\n",
       "      <td>eV</td>\n",
       "      <td>None</td>\n",
       "      <td>300.0</td>\n",
       "      <td>Reflection</td>\n",
       "      <td>EXPERIMENTAL</td>\n",
       "    </tr>\n",
       "    <tr>\n",
       "      <th>397</th>\n",
       "      <td>Cu2O1</td>\n",
       "      <td>Polycrystalline</td>\n",
       "      <td>2.02</td>\n",
       "      <td>eV</td>\n",
       "      <td>None</td>\n",
       "      <td>300.0</td>\n",
       "      <td>Reflection</td>\n",
       "      <td>EXPERIMENTAL</td>\n",
       "    </tr>\n",
       "  </tbody>\n",
       "</table>\n",
       "</div>"
      ],
      "text/plain": [
       "    chemical_formula    crystallinity  band_gap band_gap_units band_gap_type  \\\n",
       "282            Sc2O3  Polycrystalline      5.40             eV          None   \n",
       "321            Cr2O3  Polycrystalline      1.62             eV          None   \n",
       "355            Fe2O3  Polycrystalline      2.20             eV          None   \n",
       "383            Ni1O1  Polycrystalline      4.00             eV          None   \n",
       "397            Cu2O1  Polycrystalline      2.02             eV          None   \n",
       "\n",
       "     temperature_K  exp_method     data_type  \n",
       "282          300.0  Reflection  EXPERIMENTAL  \n",
       "321          300.0  Reflection  EXPERIMENTAL  \n",
       "355          300.0  Reflection  EXPERIMENTAL  \n",
       "383          300.0  Reflection  EXPERIMENTAL  \n",
       "397          300.0  Reflection  EXPERIMENTAL  "
      ]
     },
     "execution_count": 43,
     "metadata": {},
     "output_type": "execute_result"
    }
   ],
   "source": [
    "# Check the results\n",
    "filtered_bool.head()"
   ]
  },
  {
   "cell_type": "markdown",
   "metadata": {},
   "source": [
    "## Method 2: For-loop with iat\n",
    "\n",
    "Going through each row and using iat to access values"
   ]
  },
  {
   "cell_type": "code",
   "execution_count": 44,
   "metadata": {},
   "outputs": [
    {
     "name": "stdout",
     "output_type": "stream",
     "text": [
      "For-loop with iat method:\n",
      "  Rows found: 46\n",
      "  Time taken: 0.021917 seconds\n"
     ]
    }
   ],
   "source": [
    "# Method 2: For-loop with iat\n",
    "start = time.time()\n",
    "\n",
    "# Find column positions first\n",
    "temp_col = bgdata.columns.get_loc('temperature_K')\n",
    "crys_col = bgdata.columns.get_loc('crystallinity')\n",
    "method_col = bgdata.columns.get_loc('exp_method')\n",
    "\n",
    "# Store indices of rows that match\n",
    "matching_rows = []\n",
    "\n",
    "for i in range(len(bgdata)):\n",
    "    temp = bgdata.iat[i, temp_col]\n",
    "    crys = bgdata.iat[i, crys_col]\n",
    "    method = bgdata.iat[i, method_col]\n",
    "    \n",
    "    # Check if all conditions are met\n",
    "    if temp is not None and temp > 50 and crys == 'Polycrystalline' and method == 'Reflection':\n",
    "        matching_rows.append(i)\n",
    "\n",
    "filtered_iat = bgdata.iloc[matching_rows]\n",
    "time_iat = time.time() - start\n",
    "\n",
    "print(f\"For-loop with iat method:\")\n",
    "print(f\"  Rows found: {len(filtered_iat)}\")\n",
    "print(f\"  Time taken: {time_iat:.6f} seconds\")"
   ]
  },
  {
   "cell_type": "markdown",
   "metadata": {},
   "source": [
    "## Method 3: Using iloc\n",
    "\n",
    "Similar to iat but using iloc to get the full row each time"
   ]
  },
  {
   "cell_type": "code",
   "execution_count": 45,
   "metadata": {},
   "outputs": [
    {
     "name": "stdout",
     "output_type": "stream",
     "text": [
      "iloc method:\n",
      "  Rows found: 46\n",
      "  Time taken: 0.020129 seconds\n"
     ]
    }
   ],
   "source": [
    "# Method 3: Using iloc\n",
    "start = time.time()\n",
    "\n",
    "matching_rows = []\n",
    "\n",
    "for i in range(len(bgdata)):\n",
    "    row = bgdata.iloc[i]\n",
    "    \n",
    "    temp = row['temperature_K']\n",
    "    if temp is not None and temp > 50 and \\\n",
    "       row['crystallinity'] == 'Polycrystalline' and \\\n",
    "       row['exp_method'] == 'Reflection':\n",
    "        matching_rows.append(i)\n",
    "\n",
    "filtered_iloc = bgdata.iloc[matching_rows]\n",
    "time_iloc = time.time() - start\n",
    "\n",
    "print(f\"iloc method:\")\n",
    "print(f\"  Rows found: {len(filtered_iloc)}\")\n",
    "print(f\"  Time taken: {time_iloc:.6f} seconds\")"
   ]
  },
  {
   "cell_type": "markdown",
   "metadata": {},
   "source": [
    "## Compare the results\n",
    "\n",
    "Make sure all three methods gave us the same answer"
   ]
  },
  {
   "cell_type": "code",
   "execution_count": 46,
   "metadata": {},
   "outputs": [
    {
     "name": "stdout",
     "output_type": "stream",
     "text": [
      "Boolean mask: 46 rows\n",
      "For-loop iat: 46 rows\n",
      "iloc method: 46 rows\n",
      "\n",
      "All methods match: True\n"
     ]
    }
   ],
   "source": [
    "# Check if they all found the same number of rows\n",
    "print(f\"Boolean mask: {len(filtered_bool)} rows\")\n",
    "print(f\"For-loop iat: {len(filtered_iat)} rows\")\n",
    "print(f\"iloc method: {len(filtered_iloc)} rows\")\n",
    "print(f\"\\nAll methods match: {len(filtered_bool) == len(filtered_iat) == len(filtered_iloc)}\")"
   ]
  },
  {
   "cell_type": "markdown",
   "metadata": {},
   "source": [
    "## Run multiple times to get better timing\n",
    "\n",
    "Running each method 10 times to get more accurate measurements"
   ]
  },
  {
   "cell_type": "code",
   "execution_count": 47,
   "metadata": {},
   "outputs": [
    {
     "name": "stdout",
     "output_type": "stream",
     "text": [
      "Average times over 10 runs:\n",
      "Boolean mask: 0.000499 seconds\n",
      "For-loop iat: 0.021713 seconds\n",
      "iloc method:  0.019854 seconds\n"
     ]
    }
   ],
   "source": [
    "n_runs = 10\n",
    "\n",
    "# Test boolean mask multiple times\n",
    "times_bool = []\n",
    "for _ in range(n_runs):\n",
    "    start = time.time()\n",
    "    result = bgdata[(bgdata['temperature_K'] > 50) & \n",
    "                    (bgdata['crystallinity'] == 'Polycrystalline') & \n",
    "                    (bgdata['exp_method'] == 'Reflection')]\n",
    "    times_bool.append(time.time() - start)\n",
    "\n",
    "# Test iat method multiple times\n",
    "times_iat = []\n",
    "temp_col = bgdata.columns.get_loc('temperature_K')\n",
    "crys_col = bgdata.columns.get_loc('crystallinity')\n",
    "method_col = bgdata.columns.get_loc('exp_method')\n",
    "\n",
    "for _ in range(n_runs):\n",
    "    start = time.time()\n",
    "    matching_rows = []\n",
    "    for i in range(len(bgdata)):\n",
    "        temp = bgdata.iat[i, temp_col]\n",
    "        crys = bgdata.iat[i, crys_col]\n",
    "        method = bgdata.iat[i, method_col]\n",
    "        if temp is not None and temp > 50 and crys == 'Polycrystalline' and method == 'Reflection':\n",
    "            matching_rows.append(i)\n",
    "    result = bgdata.iloc[matching_rows]\n",
    "    times_iat.append(time.time() - start)\n",
    "\n",
    "# Test iloc method multiple times\n",
    "times_iloc = []\n",
    "for _ in range(n_runs):\n",
    "    start = time.time()\n",
    "    matching_rows = []\n",
    "    for i in range(len(bgdata)):\n",
    "        row = bgdata.iloc[i]\n",
    "        temp = row['temperature_K']\n",
    "        if temp is not None and temp > 50 and \\\n",
    "           row['crystallinity'] == 'Polycrystalline' and \\\n",
    "           row['exp_method'] == 'Reflection':\n",
    "            matching_rows.append(i)\n",
    "    result = bgdata.iloc[matching_rows]\n",
    "    times_iloc.append(time.time() - start)\n",
    "\n",
    "print(f\"Average times over {n_runs} runs:\")\n",
    "print(f\"Boolean mask: {np.mean(times_bool):.6f} seconds\")\n",
    "print(f\"For-loop iat: {np.mean(times_iat):.6f} seconds\")\n",
    "print(f\"iloc method:  {np.mean(times_iloc):.6f} seconds\")"
   ]
  },
  {
   "cell_type": "markdown",
   "metadata": {},
   "source": [
    "## Summary table"
   ]
  },
  {
   "cell_type": "code",
   "execution_count": 48,
   "metadata": {},
   "outputs": [
    {
     "name": "stdout",
     "output_type": "stream",
     "text": [
      "           Method  Mean Time (s)  Std Dev (s)\n",
      "     Boolean Mask       0.000499     0.000237\n",
      "For-loop with iat       0.021713     0.000243\n",
      "             iloc       0.019854     0.000379\n"
     ]
    }
   ],
   "source": [
    "# Create summary dataframe\n",
    "summary = pd.DataFrame({\n",
    "    'Method': ['Boolean Mask', 'For-loop with iat', 'iloc'],\n",
    "    'Mean Time (s)': [np.mean(times_bool), np.mean(times_iat), np.mean(times_iloc)],\n",
    "    'Std Dev (s)': [np.std(times_bool), np.std(times_iat), np.std(times_iloc)]\n",
    "})\n",
    "\n",
    "print(summary.to_string(index=False))"
   ]
  },
  {
   "cell_type": "markdown",
   "metadata": {},
   "source": [
    "## Plot the results"
   ]
  },
  {
   "cell_type": "code",
   "execution_count": 49,
   "metadata": {},
   "outputs": [
    {
     "data": {
      "image/png": "[encoded data removed]",
      "text/plain": [
       "<Figure size 1000x700 with 1 Axes>"
      ]
     },
     "metadata": {},
     "output_type": "display_data"
    },
    {
     "name": "stdout",
     "output_type": "stream",
     "text": [
      "Figure saved!\n"
     ]
    }
   ],
   "source": [
    "# Bar chart comparing the three methods\n",
    "methods = ['Boolean Mask', 'For-loop\\nwith iat', 'iloc']\n",
    "avg_times = [np.mean(times_bool), np.mean(times_iat), np.mean(times_iloc)]\n",
    "std_times = [np.std(times_bool), np.std(times_iat), np.std(times_iloc)]\n",
    "\n",
    "plt.figure(figsize=(10, 7))  # Increased height from 6 to 7\n",
    "bars = plt.bar(methods, avg_times, yerr=std_times, capsize=5, alpha=0.7, color=['green', 'orange', 'blue'])\n",
    "plt.ylabel('Time (seconds)')\n",
    "plt.title('Comparison of Filtering Methods', pad=20)  # Added padding to title\n",
    "plt.grid(axis='y', alpha=0.3)\n",
    "\n",
    "# Add the actual values on top of bars - moved down slightly\n",
    "for i, (avg, std) in enumerate(zip(avg_times, std_times)):\n",
    "    plt.text(i, avg + std + max(avg_times)*0.02, f'{avg:.4f}s', ha='center', fontsize=10)\n",
    "\n",
    "# Add some space at the top\n",
    "plt.ylim(0, max(avg_times) * 1.15)  # Give 15% extra space at top\n",
    "\n",
    "plt.tight_layout()\n",
    "plt.savefig('../results/figures/assignment1_performance_comparison.png', dpi=150)\n",
    "plt.show()\n",
    "\n",
    "print(\"Figure saved!\")"
   ]
  },
  {
   "cell_type": "markdown",
   "metadata": {},
   "source": [
    "## Conclusions\n",
    "\n",
    "The boolean mask method is way faster than the other two. The for-loop methods are much slower because they have to go through each row one by one. \n",
    "\n",
    "Boolean masking is definitely the best approach for filtering dataframes in pandas."
   ]
  }
 ],
 "metadata": {
  "kernelspec": {
   "display_name": "base",
   "language": "python",
   "name": "python3"
  },
  "language_info": {
   "codemirror_mode": {
    "name": "ipython",
    "version": 3
   },
   "file_extension": ".py",
   "mimetype": "text/x-python",
   "name": "python",
   "nbconvert_exporter": "python",
   "pygments_lexer": "ipython3",
   "version": "3.12.8"
  }
 },
 "nbformat": 4,
 "nbformat_minor": 4
}
